{
  "cells": [
    {
      "cell_type": "markdown",
      "metadata": {
        "id": "BSp0qK7iPot9"
      },
      "source": [
        "This notebook builds a surrogate model for the macroeconomic impacts of improvements in biological aging.\n",
        "\n",
        "To run this notebooks, use the `dynviz-dev` virtual environment, which can be build using the `environment.yml` file located in the same directory as this notebook."
      ]
    },
    {
      "cell_type": "code",
      "execution_count": 1,
      "metadata": {
        "id": "Fyk7fzYbPQFL"
      },
      "outputs": [],
      "source": [
        "# imports\n",
        "import numpy as np\n",
        "import pandas as pd\n",
        "import tensorflow as tf\n",
        "from tensorflow import keras\n",
        "from sklearn.model_selection import train_test_split\n"
      ]
    },
    {
      "cell_type": "code",
      "execution_count": 2,
      "metadata": {
        "id": "t1TFVbEKPfGS"
      },
      "outputs": [],
      "source": [
        "# Read in training data\n",
        "df = pd.read_csv('SL_TrainingData.csv')\n",
        "# Split the X and y variables\n",
        "X = df[[\"r\", \"age\", \"start_year\", \"num_years\", \"mortality\", \"fertility\", \"productivity\"]].values\n",
        "y = df[[\"NPV_100\", \"GDP_20\"]].values"
      ]
    },
    {
      "cell_type": "code",
      "execution_count": 3,
      "metadata": {
        "id": "P0N_RZ_uQwlD"
      },
      "outputs": [],
      "source": [
        "# train-test split for model evaluation\n",
        "X_train, X_test, y_train, y_test = train_test_split(\n",
        "    X, y, train_size=0.7, shuffle=True\n",
        ")"
      ]
    },
    {
      "cell_type": "code",
      "execution_count": 4,
      "metadata": {
        "colab": {
          "base_uri": "https://localhost:8080/"
        },
        "id": "uQHZPxxUUTSr",
        "outputId": "8c45ebd7-070a-49a4-c884-61f2becfce27"
      },
      "outputs": [
        {
          "name": "stdout",
          "output_type": "stream",
          "text": [
            "Dimensions of each layer are [7, 70, 70, 2]\n"
          ]
        }
      ],
      "source": [
        "# Layer setting\n",
        "num_input = X.shape[1]\n",
        "num_hidden1 = 10 * num_input\n",
        "num_hidden2 = 10 * num_input\n",
        "num_output = y.shape[1]\n",
        "layers_dim = [num_input, num_hidden1, num_hidden2, num_output]\n",
        "print(\"Dimensions of each layer are {}\".format(layers_dim))"
      ]
    },
    {
      "cell_type": "code",
      "execution_count": 5,
      "metadata": {
        "colab": {
          "base_uri": "https://localhost:8080/"
        },
        "id": "cCfX3ZOIUhxG",
        "outputId": "701fa694-4989-479e-b02e-83f644e0cede"
      },
      "outputs": [
        {
          "name": "stdout",
          "output_type": "stream",
          "text": [
            "Model: \"sequential\"\n",
            "_________________________________________________________________\n",
            " Layer (type)                Output Shape              Param #   \n",
            "=================================================================\n",
            " dense (Dense)               (None, 70)                560       \n",
            "                                                                 \n",
            " dense_1 (Dense)             (None, 70)                4970      \n",
            "                                                                 \n",
            " dense_2 (Dense)             (None, 2)                 142       \n",
            "                                                                 \n",
            "=================================================================\n",
            "Total params: 5672 (22.16 KB)\n",
            "Trainable params: 5672 (22.16 KB)\n",
            "Non-trainable params: 0 (0.00 Byte)\n",
            "_________________________________________________________________\n",
            "None\n"
          ]
        }
      ],
      "source": [
        "# Define the neural network\n",
        "# We use [Keras](https://www.tensorflow.org/guide/keras) to define the\n",
        "# neural network\n",
        "nn = tf.keras.Sequential(\n",
        "    [\n",
        "        keras.layers.Dense(\n",
        "            num_hidden1, activation=\"relu\", input_shape=(num_input,)\n",
        "        ),\n",
        "        keras.layers.Dense(num_hidden2, activation=\"relu\"),\n",
        "        keras.layers.Dense(num_output),\n",
        "    ]\n",
        ")\n",
        "print(nn.summary())"
      ]
    },
    {
      "cell_type": "code",
      "execution_count": 6,
      "metadata": {
        "id": "YRwvbbr0XIbf"
      },
      "outputs": [],
      "source": [
        "loss_fn = tf.keras.losses.MeanSquaredError()\n",
        "nn.compile(optimizer='adam',\n",
        "              loss=loss_fn,\n",
        "              metrics=['accuracy'])"
      ]
    },
    {
      "cell_type": "code",
      "execution_count": 7,
      "metadata": {
        "colab": {
          "base_uri": "https://localhost:8080/"
        },
        "id": "uocp6D3OYKU3",
        "outputId": "97d76a36-fb36-4cc8-c2e1-475e47b76bee"
      },
      "outputs": [
        {
          "name": "stdout",
          "output_type": "stream",
          "text": [
            "Epoch 1/200\n",
            "354/354 [==============================] - 0s 588us/step - loss: 3.0303 - accuracy: 0.6658\n",
            "Epoch 2/200\n",
            "354/354 [==============================] - 0s 574us/step - loss: 0.2840 - accuracy: 0.7344\n",
            "Epoch 3/200\n",
            "354/354 [==============================] - 0s 565us/step - loss: 0.1696 - accuracy: 0.7376\n",
            "Epoch 4/200\n",
            "354/354 [==============================] - 0s 633us/step - loss: 0.1155 - accuracy: 0.7302\n",
            "Epoch 5/200\n",
            "354/354 [==============================] - 0s 588us/step - loss: 0.0786 - accuracy: 0.7330\n",
            "Epoch 6/200\n",
            "354/354 [==============================] - 0s 564us/step - loss: 0.0509 - accuracy: 0.7349\n",
            "Epoch 7/200\n",
            "354/354 [==============================] - 0s 590us/step - loss: 0.0328 - accuracy: 0.7382\n",
            "Epoch 8/200\n",
            "354/354 [==============================] - 0s 616us/step - loss: 0.0194 - accuracy: 0.7439\n",
            "Epoch 9/200\n",
            "354/354 [==============================] - 0s 657us/step - loss: 0.0157 - accuracy: 0.7428\n",
            "Epoch 10/200\n",
            "354/354 [==============================] - 0s 722us/step - loss: 0.0114 - accuracy: 0.7458\n",
            "Epoch 11/200\n",
            "354/354 [==============================] - 0s 608us/step - loss: 0.0105 - accuracy: 0.7466\n",
            "Epoch 12/200\n",
            "354/354 [==============================] - 0s 628us/step - loss: 0.0077 - accuracy: 0.7503\n",
            "Epoch 13/200\n",
            "354/354 [==============================] - 0s 630us/step - loss: 0.0113 - accuracy: 0.7496\n",
            "Epoch 14/200\n",
            "354/354 [==============================] - 0s 633us/step - loss: 0.0066 - accuracy: 0.7446\n",
            "Epoch 15/200\n",
            "354/354 [==============================] - 0s 572us/step - loss: 0.0080 - accuracy: 0.7515\n",
            "Epoch 16/200\n",
            "354/354 [==============================] - 0s 573us/step - loss: 0.0070 - accuracy: 0.7518\n",
            "Epoch 17/200\n",
            "354/354 [==============================] - 0s 651us/step - loss: 0.0092 - accuracy: 0.7467\n",
            "Epoch 18/200\n",
            "354/354 [==============================] - 0s 610us/step - loss: 0.0065 - accuracy: 0.7496\n",
            "Epoch 19/200\n",
            "354/354 [==============================] - 0s 603us/step - loss: 0.0101 - accuracy: 0.7400\n",
            "Epoch 20/200\n",
            "354/354 [==============================] - 0s 573us/step - loss: 0.0061 - accuracy: 0.7491\n",
            "Epoch 21/200\n",
            "354/354 [==============================] - 0s 565us/step - loss: 0.0047 - accuracy: 0.7479\n",
            "Epoch 22/200\n",
            "354/354 [==============================] - 0s 630us/step - loss: 0.0048 - accuracy: 0.7546\n",
            "Epoch 23/200\n",
            "354/354 [==============================] - 0s 734us/step - loss: 0.0091 - accuracy: 0.7415\n",
            "Epoch 24/200\n",
            "354/354 [==============================] - 0s 737us/step - loss: 0.0076 - accuracy: 0.7481\n",
            "Epoch 25/200\n",
            "354/354 [==============================] - 0s 890us/step - loss: 0.0040 - accuracy: 0.7519\n",
            "Epoch 26/200\n",
            "354/354 [==============================] - 0s 668us/step - loss: 0.0083 - accuracy: 0.7586\n",
            "Epoch 27/200\n",
            "354/354 [==============================] - 0s 787us/step - loss: 0.0026 - accuracy: 0.7443\n",
            "Epoch 28/200\n",
            "354/354 [==============================] - 0s 577us/step - loss: 0.0043 - accuracy: 0.7505\n",
            "Epoch 29/200\n",
            "354/354 [==============================] - 0s 557us/step - loss: 0.0073 - accuracy: 0.7479\n",
            "Epoch 30/200\n",
            "354/354 [==============================] - 0s 556us/step - loss: 0.0046 - accuracy: 0.7536\n",
            "Epoch 31/200\n",
            "354/354 [==============================] - 0s 567us/step - loss: 0.0105 - accuracy: 0.7457\n",
            "Epoch 32/200\n",
            "354/354 [==============================] - 0s 616us/step - loss: 0.0025 - accuracy: 0.7500\n",
            "Epoch 33/200\n",
            "354/354 [==============================] - 0s 589us/step - loss: 0.0045 - accuracy: 0.7369\n",
            "Epoch 34/200\n",
            "354/354 [==============================] - 0s 637us/step - loss: 0.0034 - accuracy: 0.7405\n",
            "Epoch 35/200\n",
            "354/354 [==============================] - 0s 593us/step - loss: 0.0065 - accuracy: 0.7527\n",
            "Epoch 36/200\n",
            "354/354 [==============================] - 0s 611us/step - loss: 0.0026 - accuracy: 0.7532\n",
            "Epoch 37/200\n",
            "354/354 [==============================] - 0s 627us/step - loss: 0.0045 - accuracy: 0.7526\n",
            "Epoch 38/200\n",
            "354/354 [==============================] - 0s 615us/step - loss: 0.0060 - accuracy: 0.7520\n",
            "Epoch 39/200\n",
            "354/354 [==============================] - 0s 605us/step - loss: 0.0027 - accuracy: 0.7515\n",
            "Epoch 40/200\n",
            "354/354 [==============================] - 0s 587us/step - loss: 0.0043 - accuracy: 0.7457\n",
            "Epoch 41/200\n",
            "354/354 [==============================] - 0s 631us/step - loss: 0.0045 - accuracy: 0.7522\n",
            "Epoch 42/200\n",
            "354/354 [==============================] - 0s 587us/step - loss: 0.0043 - accuracy: 0.7410\n",
            "Epoch 43/200\n",
            "354/354 [==============================] - 0s 600us/step - loss: 0.0060 - accuracy: 0.7487\n",
            "Epoch 44/200\n",
            "354/354 [==============================] - 0s 608us/step - loss: 0.0015 - accuracy: 0.7518\n",
            "Epoch 45/200\n",
            "354/354 [==============================] - 0s 673us/step - loss: 0.0028 - accuracy: 0.7443\n",
            "Epoch 46/200\n",
            "354/354 [==============================] - 0s 610us/step - loss: 0.0061 - accuracy: 0.7451\n",
            "Epoch 47/200\n",
            "354/354 [==============================] - 0s 602us/step - loss: 0.0024 - accuracy: 0.7428\n",
            "Epoch 48/200\n",
            "354/354 [==============================] - 0s 737us/step - loss: 0.0057 - accuracy: 0.7591\n",
            "Epoch 49/200\n",
            "354/354 [==============================] - 0s 589us/step - loss: 0.0030 - accuracy: 0.7498\n",
            "Epoch 50/200\n",
            "354/354 [==============================] - 0s 720us/step - loss: 0.0036 - accuracy: 0.7458\n",
            "Epoch 51/200\n",
            "354/354 [==============================] - 0s 567us/step - loss: 0.0023 - accuracy: 0.7509\n",
            "Epoch 52/200\n",
            "354/354 [==============================] - 0s 572us/step - loss: 0.0043 - accuracy: 0.7474\n",
            "Epoch 53/200\n",
            "354/354 [==============================] - 0s 612us/step - loss: 0.0027 - accuracy: 0.7331\n",
            "Epoch 54/200\n",
            "354/354 [==============================] - 0s 632us/step - loss: 0.0020 - accuracy: 0.7502\n",
            "Epoch 55/200\n",
            "354/354 [==============================] - 0s 639us/step - loss: 0.0045 - accuracy: 0.7428\n",
            "Epoch 56/200\n",
            "354/354 [==============================] - 0s 602us/step - loss: 0.0020 - accuracy: 0.7474\n",
            "Epoch 57/200\n",
            "354/354 [==============================] - 0s 603us/step - loss: 0.0032 - accuracy: 0.7564\n",
            "Epoch 58/200\n",
            "354/354 [==============================] - 0s 684us/step - loss: 0.0044 - accuracy: 0.7458\n",
            "Epoch 59/200\n",
            "354/354 [==============================] - 0s 622us/step - loss: 0.0020 - accuracy: 0.7547\n",
            "Epoch 60/200\n",
            "354/354 [==============================] - 0s 611us/step - loss: 0.0027 - accuracy: 0.7493\n",
            "Epoch 61/200\n",
            "354/354 [==============================] - 0s 601us/step - loss: 0.0019 - accuracy: 0.7540\n",
            "Epoch 62/200\n",
            "354/354 [==============================] - 0s 618us/step - loss: 0.0044 - accuracy: 0.7507\n",
            "Epoch 63/200\n",
            "354/354 [==============================] - 0s 600us/step - loss: 0.0022 - accuracy: 0.7493\n",
            "Epoch 64/200\n",
            "354/354 [==============================] - 0s 633us/step - loss: 0.0037 - accuracy: 0.7525\n",
            "Epoch 65/200\n",
            "354/354 [==============================] - 0s 599us/step - loss: 0.0016 - accuracy: 0.7509\n",
            "Epoch 66/200\n",
            "354/354 [==============================] - 0s 604us/step - loss: 0.0015 - accuracy: 0.7476\n",
            "Epoch 67/200\n",
            "354/354 [==============================] - 0s 603us/step - loss: 0.0026 - accuracy: 0.7448\n",
            "Epoch 68/200\n",
            "354/354 [==============================] - 0s 609us/step - loss: 0.0022 - accuracy: 0.7477\n",
            "Epoch 69/200\n",
            "354/354 [==============================] - 0s 600us/step - loss: 0.0019 - accuracy: 0.7433\n",
            "Epoch 70/200\n",
            "354/354 [==============================] - 0s 612us/step - loss: 0.0021 - accuracy: 0.7449\n",
            "Epoch 71/200\n",
            "354/354 [==============================] - 0s 587us/step - loss: 0.0026 - accuracy: 0.7519\n",
            "Epoch 72/200\n",
            "354/354 [==============================] - 0s 687us/step - loss: 0.0030 - accuracy: 0.7443\n",
            "Epoch 73/200\n",
            "354/354 [==============================] - 0s 591us/step - loss: 0.0026 - accuracy: 0.7504\n",
            "Epoch 74/200\n",
            "354/354 [==============================] - 0s 702us/step - loss: 0.0014 - accuracy: 0.7490\n",
            "Epoch 75/200\n",
            "354/354 [==============================] - 0s 604us/step - loss: 0.0069 - accuracy: 0.7441\n",
            "Epoch 76/200\n",
            "354/354 [==============================] - 0s 604us/step - loss: 4.5935e-04 - accuracy: 0.7456\n",
            "Epoch 77/200\n",
            "354/354 [==============================] - 0s 621us/step - loss: 6.4756e-04 - accuracy: 0.7522\n",
            "Epoch 78/200\n",
            "354/354 [==============================] - 0s 600us/step - loss: 0.0026 - accuracy: 0.7563\n",
            "Epoch 79/200\n",
            "354/354 [==============================] - 0s 622us/step - loss: 0.0011 - accuracy: 0.7485\n",
            "Epoch 80/200\n",
            "354/354 [==============================] - 0s 601us/step - loss: 0.0036 - accuracy: 0.7504\n",
            "Epoch 81/200\n",
            "354/354 [==============================] - 0s 624us/step - loss: 8.3572e-04 - accuracy: 0.7455\n",
            "Epoch 82/200\n",
            "354/354 [==============================] - 0s 582us/step - loss: 0.0020 - accuracy: 0.7516\n",
            "Epoch 83/200\n",
            "354/354 [==============================] - 0s 586us/step - loss: 0.0026 - accuracy: 0.7475\n",
            "Epoch 84/200\n",
            "354/354 [==============================] - 0s 745us/step - loss: 0.0021 - accuracy: 0.7467\n",
            "Epoch 85/200\n",
            "354/354 [==============================] - 0s 568us/step - loss: 0.0013 - accuracy: 0.7432\n",
            "Epoch 86/200\n",
            "354/354 [==============================] - 0s 600us/step - loss: 0.0014 - accuracy: 0.7539\n",
            "Epoch 87/200\n",
            "354/354 [==============================] - 0s 577us/step - loss: 0.0022 - accuracy: 0.7539\n",
            "Epoch 88/200\n",
            "354/354 [==============================] - 0s 566us/step - loss: 0.0012 - accuracy: 0.7525\n",
            "Epoch 89/200\n",
            "354/354 [==============================] - 0s 564us/step - loss: 0.0017 - accuracy: 0.7520\n",
            "Epoch 90/200\n",
            "354/354 [==============================] - 0s 659us/step - loss: 0.0017 - accuracy: 0.7520\n",
            "Epoch 91/200\n",
            "354/354 [==============================] - 0s 579us/step - loss: 0.0019 - accuracy: 0.7494\n",
            "Epoch 92/200\n",
            "354/354 [==============================] - 0s 580us/step - loss: 0.0026 - accuracy: 0.7458\n",
            "Epoch 93/200\n",
            "354/354 [==============================] - 0s 564us/step - loss: 7.6429e-04 - accuracy: 0.7437\n",
            "Epoch 94/200\n",
            "354/354 [==============================] - 0s 560us/step - loss: 0.0014 - accuracy: 0.7493\n",
            "Epoch 95/200\n",
            "354/354 [==============================] - 0s 562us/step - loss: 0.0023 - accuracy: 0.7403\n",
            "Epoch 96/200\n",
            "354/354 [==============================] - 0s 582us/step - loss: 0.0014 - accuracy: 0.7451\n",
            "Epoch 97/200\n",
            "354/354 [==============================] - 0s 566us/step - loss: 0.0010 - accuracy: 0.7473\n",
            "Epoch 98/200\n",
            "354/354 [==============================] - 0s 556us/step - loss: 0.0021 - accuracy: 0.7500\n",
            "Epoch 99/200\n",
            "354/354 [==============================] - 0s 567us/step - loss: 7.4929e-04 - accuracy: 0.7462\n",
            "Epoch 100/200\n",
            "354/354 [==============================] - 0s 604us/step - loss: 0.0030 - accuracy: 0.7437\n",
            "Epoch 101/200\n",
            "354/354 [==============================] - 0s 610us/step - loss: 5.5425e-04 - accuracy: 0.7481\n",
            "Epoch 102/200\n",
            "354/354 [==============================] - 0s 591us/step - loss: 0.0029 - accuracy: 0.7479\n",
            "Epoch 103/200\n",
            "354/354 [==============================] - 0s 648us/step - loss: 3.0815e-04 - accuracy: 0.7421\n",
            "Epoch 104/200\n",
            "354/354 [==============================] - 0s 622us/step - loss: 0.0014 - accuracy: 0.7390\n",
            "Epoch 105/200\n",
            "354/354 [==============================] - 0s 589us/step - loss: 0.0011 - accuracy: 0.7443\n",
            "Epoch 106/200\n",
            "354/354 [==============================] - 0s 586us/step - loss: 0.0022 - accuracy: 0.7526\n",
            "Epoch 107/200\n",
            "354/354 [==============================] - 0s 559us/step - loss: 6.8686e-04 - accuracy: 0.7433\n",
            "Epoch 108/200\n",
            "354/354 [==============================] - 0s 570us/step - loss: 0.0014 - accuracy: 0.7543\n",
            "Epoch 109/200\n",
            "354/354 [==============================] - 0s 564us/step - loss: 7.2437e-04 - accuracy: 0.7511\n",
            "Epoch 110/200\n",
            "354/354 [==============================] - 0s 590us/step - loss: 0.0024 - accuracy: 0.7531\n",
            "Epoch 111/200\n",
            "354/354 [==============================] - 0s 647us/step - loss: 0.0011 - accuracy: 0.7405\n",
            "Epoch 112/200\n",
            "354/354 [==============================] - 0s 585us/step - loss: 0.0013 - accuracy: 0.7443\n",
            "Epoch 113/200\n",
            "354/354 [==============================] - 0s 617us/step - loss: 6.9913e-04 - accuracy: 0.7470\n",
            "Epoch 114/200\n",
            "354/354 [==============================] - 0s 563us/step - loss: 0.0037 - accuracy: 0.7442\n",
            "Epoch 115/200\n",
            "354/354 [==============================] - 0s 579us/step - loss: 2.6324e-04 - accuracy: 0.7473\n",
            "Epoch 116/200\n",
            "354/354 [==============================] - 0s 620us/step - loss: 6.8448e-04 - accuracy: 0.7429\n",
            "Epoch 117/200\n",
            "354/354 [==============================] - 0s 562us/step - loss: 0.0015 - accuracy: 0.7495\n",
            "Epoch 118/200\n",
            "354/354 [==============================] - 0s 564us/step - loss: 0.0011 - accuracy: 0.7505\n",
            "Epoch 119/200\n",
            "354/354 [==============================] - 0s 559us/step - loss: 9.3254e-04 - accuracy: 0.7455\n",
            "Epoch 120/200\n",
            "354/354 [==============================] - 0s 597us/step - loss: 0.0023 - accuracy: 0.7441\n",
            "Epoch 121/200\n",
            "354/354 [==============================] - 0s 568us/step - loss: 5.2388e-04 - accuracy: 0.7479\n",
            "Epoch 122/200\n",
            "354/354 [==============================] - 0s 583us/step - loss: 0.0016 - accuracy: 0.7450\n",
            "Epoch 123/200\n",
            "354/354 [==============================] - 0s 566us/step - loss: 2.5781e-04 - accuracy: 0.7489\n",
            "Epoch 124/200\n",
            "354/354 [==============================] - 0s 566us/step - loss: 0.0021 - accuracy: 0.7512\n",
            "Epoch 125/200\n",
            "354/354 [==============================] - 0s 578us/step - loss: 9.7924e-04 - accuracy: 0.7518\n",
            "Epoch 126/200\n",
            "354/354 [==============================] - 0s 577us/step - loss: 9.4773e-04 - accuracy: 0.7542\n",
            "Epoch 127/200\n",
            "354/354 [==============================] - 0s 575us/step - loss: 8.1405e-04 - accuracy: 0.7495\n",
            "Epoch 128/200\n",
            "354/354 [==============================] - 0s 560us/step - loss: 0.0022 - accuracy: 0.7504\n",
            "Epoch 129/200\n",
            "354/354 [==============================] - 0s 561us/step - loss: 5.0312e-04 - accuracy: 0.7533\n",
            "Epoch 130/200\n",
            "354/354 [==============================] - 0s 599us/step - loss: 5.8528e-04 - accuracy: 0.7531\n",
            "Epoch 131/200\n",
            "354/354 [==============================] - 0s 692us/step - loss: 0.0016 - accuracy: 0.7515\n",
            "Epoch 132/200\n",
            "354/354 [==============================] - 0s 588us/step - loss: 5.8115e-04 - accuracy: 0.7535\n",
            "Epoch 133/200\n",
            "354/354 [==============================] - 0s 563us/step - loss: 0.0024 - accuracy: 0.7367\n",
            "Epoch 134/200\n",
            "354/354 [==============================] - 0s 586us/step - loss: 2.8853e-04 - accuracy: 0.7406\n",
            "Epoch 135/200\n",
            "354/354 [==============================] - 0s 614us/step - loss: 4.9842e-04 - accuracy: 0.7479\n",
            "Epoch 136/200\n",
            "354/354 [==============================] - 0s 568us/step - loss: 0.0031 - accuracy: 0.7505\n",
            "Epoch 137/200\n",
            "354/354 [==============================] - 0s 566us/step - loss: 3.6716e-04 - accuracy: 0.7500\n",
            "Epoch 138/200\n",
            "354/354 [==============================] - 0s 570us/step - loss: 3.0623e-04 - accuracy: 0.7498\n",
            "Epoch 139/200\n",
            "354/354 [==============================] - 0s 582us/step - loss: 0.0015 - accuracy: 0.7527\n",
            "Epoch 140/200\n",
            "354/354 [==============================] - 0s 569us/step - loss: 6.8790e-04 - accuracy: 0.7435\n",
            "Epoch 141/200\n",
            "354/354 [==============================] - 0s 566us/step - loss: 0.0018 - accuracy: 0.7472\n",
            "Epoch 142/200\n",
            "354/354 [==============================] - 0s 603us/step - loss: 2.2503e-04 - accuracy: 0.7519\n",
            "Epoch 143/200\n",
            "354/354 [==============================] - 0s 574us/step - loss: 0.0012 - accuracy: 0.7373\n",
            "Epoch 144/200\n",
            "354/354 [==============================] - 0s 574us/step - loss: 5.8252e-04 - accuracy: 0.7487\n",
            "Epoch 145/200\n",
            "354/354 [==============================] - 0s 567us/step - loss: 7.9985e-04 - accuracy: 0.7409\n",
            "Epoch 146/200\n",
            "354/354 [==============================] - 0s 562us/step - loss: 0.0014 - accuracy: 0.7513\n",
            "Epoch 147/200\n",
            "354/354 [==============================] - 0s 569us/step - loss: 2.2852e-04 - accuracy: 0.7453\n",
            "Epoch 148/200\n",
            "354/354 [==============================] - 0s 822us/step - loss: 7.1657e-04 - accuracy: 0.7513\n",
            "Epoch 149/200\n",
            "354/354 [==============================] - 0s 680us/step - loss: 8.2879e-04 - accuracy: 0.7455\n",
            "Epoch 150/200\n",
            "354/354 [==============================] - 0s 567us/step - loss: 8.8184e-04 - accuracy: 0.7536\n",
            "Epoch 151/200\n",
            "354/354 [==============================] - 0s 576us/step - loss: 6.6325e-04 - accuracy: 0.7445\n",
            "Epoch 152/200\n",
            "354/354 [==============================] - 0s 562us/step - loss: 5.3766e-04 - accuracy: 0.7455\n",
            "Epoch 153/200\n",
            "354/354 [==============================] - 0s 564us/step - loss: 8.8099e-04 - accuracy: 0.7503\n",
            "Epoch 154/200\n",
            "354/354 [==============================] - 0s 577us/step - loss: 8.7543e-04 - accuracy: 0.7508\n",
            "Epoch 155/200\n",
            "354/354 [==============================] - 0s 563us/step - loss: 6.9552e-04 - accuracy: 0.7448\n",
            "Epoch 156/200\n",
            "354/354 [==============================] - 0s 561us/step - loss: 0.0011 - accuracy: 0.7537\n",
            "Epoch 157/200\n",
            "354/354 [==============================] - 0s 564us/step - loss: 2.6895e-04 - accuracy: 0.7458\n",
            "Epoch 158/200\n",
            "354/354 [==============================] - 0s 564us/step - loss: 0.0013 - accuracy: 0.7471\n",
            "Epoch 159/200\n",
            "354/354 [==============================] - 0s 594us/step - loss: 0.0013 - accuracy: 0.7543\n",
            "Epoch 160/200\n",
            "354/354 [==============================] - 0s 564us/step - loss: 1.4042e-04 - accuracy: 0.7510\n",
            "Epoch 161/200\n",
            "354/354 [==============================] - 0s 585us/step - loss: 9.1613e-04 - accuracy: 0.7481\n",
            "Epoch 162/200\n",
            "354/354 [==============================] - 0s 564us/step - loss: 3.7752e-04 - accuracy: 0.7417\n",
            "Epoch 163/200\n",
            "354/354 [==============================] - 0s 562us/step - loss: 7.7369e-04 - accuracy: 0.7462\n",
            "Epoch 164/200\n",
            "354/354 [==============================] - 0s 572us/step - loss: 7.2577e-04 - accuracy: 0.7506\n",
            "Epoch 165/200\n",
            "354/354 [==============================] - 0s 578us/step - loss: 7.3758e-04 - accuracy: 0.7508\n",
            "Epoch 166/200\n",
            "354/354 [==============================] - 0s 587us/step - loss: 8.5224e-04 - accuracy: 0.7435\n",
            "Epoch 167/200\n",
            "354/354 [==============================] - 0s 559us/step - loss: 2.4913e-04 - accuracy: 0.7480\n",
            "Epoch 168/200\n",
            "354/354 [==============================] - 0s 643us/step - loss: 8.0232e-04 - accuracy: 0.7525\n",
            "Epoch 169/200\n",
            "354/354 [==============================] - 0s 593us/step - loss: 6.3322e-04 - accuracy: 0.7490\n",
            "Epoch 170/200\n",
            "354/354 [==============================] - 0s 565us/step - loss: 0.0015 - accuracy: 0.7459\n",
            "Epoch 171/200\n",
            "354/354 [==============================] - 0s 584us/step - loss: 2.1783e-04 - accuracy: 0.7462\n",
            "Epoch 172/200\n",
            "354/354 [==============================] - 0s 569us/step - loss: 5.3029e-04 - accuracy: 0.7521\n",
            "Epoch 173/200\n",
            "354/354 [==============================] - 0s 591us/step - loss: 7.3912e-04 - accuracy: 0.7505\n",
            "Epoch 174/200\n",
            "354/354 [==============================] - 0s 574us/step - loss: 8.6806e-04 - accuracy: 0.7474\n",
            "Epoch 175/200\n",
            "354/354 [==============================] - 0s 585us/step - loss: 1.6054e-04 - accuracy: 0.7458\n",
            "Epoch 176/200\n",
            "354/354 [==============================] - 0s 560us/step - loss: 0.0018 - accuracy: 0.7502\n",
            "Epoch 177/200\n",
            "354/354 [==============================] - 0s 562us/step - loss: 9.1554e-05 - accuracy: 0.7516\n",
            "Epoch 178/200\n",
            "354/354 [==============================] - 0s 576us/step - loss: 1.2718e-04 - accuracy: 0.7472\n",
            "Epoch 179/200\n",
            "354/354 [==============================] - 0s 591us/step - loss: 4.3834e-04 - accuracy: 0.7480\n",
            "Epoch 180/200\n",
            "354/354 [==============================] - 0s 561us/step - loss: 4.3738e-04 - accuracy: 0.7425\n",
            "Epoch 181/200\n",
            "354/354 [==============================] - 0s 583us/step - loss: 0.0014 - accuracy: 0.7392\n",
            "Epoch 182/200\n",
            "354/354 [==============================] - 0s 588us/step - loss: 1.4596e-04 - accuracy: 0.7511\n",
            "Epoch 183/200\n",
            "354/354 [==============================] - 0s 583us/step - loss: 5.4898e-04 - accuracy: 0.7466\n",
            "Epoch 184/200\n",
            "354/354 [==============================] - 0s 636us/step - loss: 6.0821e-04 - accuracy: 0.7458\n",
            "Epoch 185/200\n",
            "354/354 [==============================] - 0s 560us/step - loss: 2.9508e-04 - accuracy: 0.7511\n",
            "Epoch 186/200\n",
            "354/354 [==============================] - 0s 560us/step - loss: 5.1112e-04 - accuracy: 0.7480\n",
            "Epoch 187/200\n",
            "354/354 [==============================] - 0s 560us/step - loss: 5.6515e-04 - accuracy: 0.7544\n",
            "Epoch 188/200\n",
            "354/354 [==============================] - 0s 584us/step - loss: 5.9610e-04 - accuracy: 0.7496\n",
            "Epoch 189/200\n",
            "354/354 [==============================] - 0s 581us/step - loss: 5.3380e-04 - accuracy: 0.7554\n",
            "Epoch 190/200\n",
            "354/354 [==============================] - 0s 562us/step - loss: 0.0019 - accuracy: 0.7489\n",
            "Epoch 191/200\n",
            "354/354 [==============================] - 0s 575us/step - loss: 1.9887e-04 - accuracy: 0.7496\n",
            "Epoch 192/200\n",
            "354/354 [==============================] - 0s 563us/step - loss: 9.4933e-05 - accuracy: 0.7511\n",
            "Epoch 193/200\n",
            "354/354 [==============================] - 0s 574us/step - loss: 1.4444e-04 - accuracy: 0.7586\n",
            "Epoch 194/200\n",
            "354/354 [==============================] - 0s 561us/step - loss: 3.8259e-04 - accuracy: 0.7595\n",
            "Epoch 195/200\n",
            "354/354 [==============================] - 0s 567us/step - loss: 0.0011 - accuracy: 0.7496\n",
            "Epoch 196/200\n",
            "354/354 [==============================] - 0s 562us/step - loss: 1.1613e-04 - accuracy: 0.7445\n",
            "Epoch 197/200\n",
            "354/354 [==============================] - 0s 563us/step - loss: 8.4008e-04 - accuracy: 0.7481\n",
            "Epoch 198/200\n",
            "354/354 [==============================] - 0s 572us/step - loss: 1.6743e-04 - accuracy: 0.7518\n",
            "Epoch 199/200\n",
            "354/354 [==============================] - 0s 577us/step - loss: 3.4895e-04 - accuracy: 0.7516\n",
            "Epoch 200/200\n",
            "354/354 [==============================] - 0s 655us/step - loss: 2.8438e-04 - accuracy: 0.7382\n"
          ]
        },
        {
          "data": {
            "text/plain": [
              "<keras.src.callbacks.History at 0x34941a0d0>"
            ]
          },
          "execution_count": 7,
          "metadata": {},
          "output_type": "execute_result"
        }
      ],
      "source": [
        "nn.fit(X_train, y_train, epochs=200)"
      ]
    },
    {
      "cell_type": "code",
      "execution_count": 8,
      "metadata": {
        "colab": {
          "base_uri": "https://localhost:8080/"
        },
        "id": "Sh32gt2UYOuG",
        "outputId": "376d7581-4d3c-4d90-c4b4-0c45a9e4e613"
      },
      "outputs": [
        {
          "name": "stdout",
          "output_type": "stream",
          "text": [
            "152/152 - 0s - loss: 0.0015 - accuracy: 0.9998 - 112ms/epoch - 738us/step\n"
          ]
        },
        {
          "data": {
            "text/plain": [
              "[0.00154090765863657, 0.9997937679290771]"
            ]
          },
          "execution_count": 8,
          "metadata": {},
          "output_type": "execute_result"
        }
      ],
      "source": [
        "nn.evaluate(X_test,  y_test, verbose=2)"
      ]
    },
    {
      "cell_type": "code",
      "execution_count": 9,
      "metadata": {
        "id": "g_6BJH-hUncP"
      },
      "outputs": [
        {
          "name": "stderr",
          "output_type": "stream",
          "text": [
            "/Users/jason.debacker/anaconda3/envs/dynviz-dev/lib/python3.11/site-packages/keras/src/engine/training.py:3103: UserWarning: You are saving your model as an HDF5 file via `model.save()`. This file format is considered legacy. We recommend using instead the native Keras format, e.g. `model.save('my_model.keras')`.\n",
            "  saving_api.save_model(\n"
          ]
        }
      ],
      "source": [
        "# save full model - not just weights\n",
        "tf.keras.Model.save(nn, \"SL_model_full.h5\", save_format=\"h5\")"
      ]
    },
    {
      "cell_type": "code",
      "execution_count": 10,
      "metadata": {
        "id": "uuRupA3feDYr"
      },
      "outputs": [],
      "source": [
        "# !tensorflowjs_converter --input_format=keras SL_model.h5 ./tf_model/\n",
        "# !tensorflowjs_converter --input_format=tf_saved_model SL_model2 ./tf_model/\n",
        "!tensorflowjs_converter --input_format=keras SL_model_full.h5 ./tf_model/"
      ]
    },
    {
      "cell_type": "code",
      "execution_count": 11,
      "metadata": {},
      "outputs": [],
      "source": [
        "# Read model back in\n",
        "model = keras.models.load_model(\"SL_model_full.h5\")"
      ]
    },
    {
      "cell_type": "code",
      "execution_count": 12,
      "metadata": {},
      "outputs": [
        {
          "name": "stdout",
          "output_type": "stream",
          "text": [
            "152/152 [==============================] - 0s 375us/step\n",
            "[[ 1.7426349  3.4481854]\n",
            " [ 3.428185   6.838882 ]\n",
            " [ 7.4028916  7.3531713]\n",
            " ...\n",
            " [ 6.3719816  6.3448586]\n",
            " [ 5.0916653 10.149454 ]\n",
            " [ 2.6199934  2.600796 ]]\n"
          ]
        }
      ],
      "source": [
        "# use model to make predictions\n",
        "predictions = model.predict(X_test)\n",
        "print(predictions)"
      ]
    },
    {
      "cell_type": "code",
      "execution_count": 13,
      "metadata": {},
      "outputs": [
        {
          "name": "stdout",
          "output_type": "stream",
          "text": [
            "1/1 [==============================] - 0s 11ms/step\n",
            "[4.8056154 4.786179 ]\n"
          ]
        }
      ],
      "source": [
        "# use model to make a single prediction\n",
        "x = np.array([[2.89386640e-02, 4.00000000e+01, 1.00000000e+01, 2.00000000e+01,\n",
        "       2.76861914e-01, 5.76141576e+00, 6.13201966e+00]])\n",
        "print(model.predict(x)[0]) # Print the first (only) result"
      ]
    },
    {
      "cell_type": "code",
      "execution_count": 14,
      "metadata": {},
      "outputs": [
        {
          "name": "stdout",
          "output_type": "stream",
          "text": [
            "# packages in environment at /Users/jason.debacker/anaconda3/envs/dynviz-dev:\n",
            "#\n",
            "# Name                    Version                   Build  Channel\n",
            "tensorflow                2.15.0                   pypi_0    pypi\n",
            "tensorflow-decision-forests 1.8.1                    pypi_0    pypi\n",
            "tensorflow-estimator      2.15.0                   pypi_0    pypi\n",
            "tensorflow-hub            0.16.1                   pypi_0    pypi\n",
            "tensorflow-io-gcs-filesystem 0.37.1                   pypi_0    pypi\n",
            "tensorflow-macos          2.15.0                   pypi_0    pypi\n",
            "tensorflowjs              4.21.0                   pypi_0    pypi\n"
          ]
        }
      ],
      "source": [
        "!conda list tensorflow"
      ]
    }
  ],
  "metadata": {
    "colab": {
      "provenance": []
    },
    "kernelspec": {
      "display_name": "Python 3",
      "name": "python3"
    },
    "language_info": {
      "codemirror_mode": {
        "name": "ipython",
        "version": 3
      },
      "file_extension": ".py",
      "mimetype": "text/x-python",
      "name": "python",
      "nbconvert_exporter": "python",
      "pygments_lexer": "ipython3",
      "version": "3.11.10"
    }
  },
  "nbformat": 4,
  "nbformat_minor": 0
}
